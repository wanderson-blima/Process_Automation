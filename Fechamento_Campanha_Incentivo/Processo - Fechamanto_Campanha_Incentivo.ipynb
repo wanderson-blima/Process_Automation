{
 "cells": [
  {
   "cell_type": "markdown",
   "id": "78183f17",
   "metadata": {},
   "source": [
    "## PROJETO - AUTOMAÇÃO DO FECHAMENTO DA CAMPANHA DE INCENTIVO"
   ]
  },
  {
   "cell_type": "markdown",
   "id": "60484f9a",
   "metadata": {},
   "source": [
    "### DESCRIÇÃO:\n",
    "- O projeto consiste em criar um processo de automação de envio de e-mails com o fechamento da Campanha de Incentivo para todos os hotéis da rede."
   ]
  },
  {
   "cell_type": "markdown",
   "id": "4726c54e",
   "metadata": {},
   "source": [
    "### ETAPAS DO PROCESSO:\n",
    "- Importar e tratar as bases de dados\n",
    "- Criar 1 arquivo para cada hotel\n",
    "- Salvar o backup nas pastas\n",
    "- Enviar o e-mail para o hotel"
   ]
  },
  {
   "cell_type": "code",
   "execution_count": 27,
   "id": "40baefc2",
   "metadata": {},
   "outputs": [
    {
     "name": "stderr",
     "output_type": "stream",
     "text": [
      "100%|██████████████████████████████████████████████████████████████████████████████████| 81/81 [00:07<00:00, 10.90it/s]\n",
      "100%|██████████████████████████████████████████████████████████████████████████████████| 81/81 [00:04<00:00, 17.97it/s]\n"
     ]
    }
   ],
   "source": [
    "# Importar bibliotecas:\n",
    "import pandas as pd\n",
    "import pathlib\n",
    "import yagmail\n",
    "import win32com.client as win32\n",
    "from tqdm import tqdm\n",
    "\n",
    "# Importar base de dados: \n",
    "#emails = pd.read_excel(r'{}\\Bases de Dados\\E-mails.xlsx'.format(pathlib.Path.cwd()))\n",
    "vendas = pd.read_excel(r'{}\\Base de Dados\\Campanha de Incentivo.xlsx'.format(pathlib.Path.cwd()))\n",
    "\n",
    "# Criar um dicionário com o nome da loja como chave e os dados da tabela referente a essa loja como os valores:\n",
    "dicionario_hotel = {}\n",
    "for hotel in vendas['SiglaHotel']:\n",
    "    dicionario_hotel[hotel] = vendas.loc[vendas['SiglaHotel']==hotel, :]\n",
    "    \n",
    "# Identificar se a pasta da loja já existe:\n",
    "caminho_backup = pathlib.Path(r'Backup Arquivos Hotel')\n",
    "\n",
    "for hotel in tqdm(dicionario_hotel):  \n",
    "# Salvar o arquivo dentro da pasta da loja:\n",
    "    nome_arquivo = f'{hotel}.xlsx'\n",
    "    local_arquivo = caminho_backup / nome_arquivo\n",
    "    dicionario_hotel[hotel].to_excel(local_arquivo)\n",
    "    \n",
    "# Criando um loop que irá enviar os e-mails automáticamente:\n",
    "for hotel in tqdm(dicionario_hotel):\n",
    "    # Enviar e-mail:\n",
    "    ## Definindo variáveis para o envio do e-mail automatizado: \n",
    "    email_destinatario = 'wbarbosa@ahi.com.br' #emails.loc[emails['Loja']==loja,'E-mail'].values[0]\n",
    "    email_destinatario_name = 'Wanderson' #emails.loc[emails['Loja']==loja,'Gerente'].values[0]\n",
    "    email_subject = f'Campanha de Incentivo - {hotel}'\n",
    "    email_anexo = pathlib.Path.cwd() / caminho_backup / f'{hotel}.xlsx'\n",
    "    \n",
    "################# Digite aqui o conteúdo que será enviado no corpo do e-mail #################   \n",
    "    email_bory = f'''Prezado Gerente Geral, </p>\n",
    "<p>Segue fechamento mensal da Campanha de Incentivo referente ao hotel {hotel}. </p>\n",
    "<p>Qualquer alteração ou divergencia deverá ser informada no prazo de 3 dias, após o recebimento deste e-mail.</p>\n",
    "<br>\n",
    "<p>Atenciosamente,</p>\n",
    "<p>Equipe Canal Direto Corporativa</p>\n",
    "    '''\n",
    "    \n",
    "################# Enviando com Outlook #################\n",
    "    # Definindo as variáveis do outlook:\n",
    "    outlook = win32.Dispatch('outlook.application')\n",
    "    mail = outlook.CreateItem(0)\n",
    "    nome = email_destinatario_name\n",
    "    mail.To = email_destinatario\n",
    "    mail.Subject = email_subject\n",
    "    mail.HTMLBody = email_bory\n",
    "\n",
    "    # Anexando arquivo: \n",
    "    attachment = email_anexo\n",
    "    mail.attachments.Add(str(attachment))\n",
    "\n",
    "    # Enviando o e-mail: \n",
    "    mail.Send()"
   ]
  }
 ],
 "metadata": {
  "kernelspec": {
   "display_name": "Python 3 (ipykernel)",
   "language": "python",
   "name": "python3"
  },
  "language_info": {
   "codemirror_mode": {
    "name": "ipython",
    "version": 3
   },
   "file_extension": ".py",
   "mimetype": "text/x-python",
   "name": "python",
   "nbconvert_exporter": "python",
   "pygments_lexer": "ipython3",
   "version": "3.9.12"
  }
 },
 "nbformat": 4,
 "nbformat_minor": 5
}
